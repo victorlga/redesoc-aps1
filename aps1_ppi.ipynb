{
 "cells": [
  {
   "cell_type": "markdown",
   "id": "9f0e9545-b882-4998-bdb6-9df9dfa664b8",
   "metadata": {},
   "source": [
    "# Building a protein-protein interection network"
   ]
  },
  {
   "cell_type": "code",
   "execution_count": 15,
   "id": "6ae819d5-5891-4107-907a-9d65cf7c9524",
   "metadata": {
    "execution": {
     "iopub.execute_input": "2023-08-21T15:44:56.264347Z",
     "iopub.status.busy": "2023-08-21T15:44:56.264035Z",
     "iopub.status.idle": "2023-08-21T15:44:56.729812Z",
     "shell.execute_reply": "2023-08-21T15:44:56.729053Z",
     "shell.execute_reply.started": "2023-08-21T15:44:56.264329Z"
    }
   },
   "outputs": [],
   "source": [
    "import graph_tool_extras as gte"
   ]
  },
  {
   "cell_type": "markdown",
   "id": "e791cd4d-34d2-40b8-9c11-4f5f2aeda10e",
   "metadata": {},
   "source": [
    "## Introduction"
   ]
  },
  {
   "cell_type": "markdown",
   "id": "56916d79-eb73-4597-9a34-aa02cd850675",
   "metadata": {},
   "source": [
    "In this notebook, a network of protein-protein interactions in human bodies was built.\n",
    "The database in the file below is used. It's from the Molecular Interaction Searching Tool's dataset at https://fgrtools.hms.harvard.edu/MIST."
   ]
  },
  {
   "cell_type": "code",
   "execution_count": 16,
   "id": "6e9e3857-d649-41c2-93bc-bab968e765b0",
   "metadata": {
    "execution": {
     "iopub.execute_input": "2023-08-21T15:44:57.997564Z",
     "iopub.status.busy": "2023-08-21T15:44:57.997237Z",
     "iopub.status.idle": "2023-08-21T15:44:58.002037Z",
     "shell.execute_reply": "2023-08-21T15:44:58.000813Z",
     "shell.execute_reply.started": "2023-08-21T15:44:57.997545Z"
    }
   },
   "outputs": [],
   "source": [
    "PATH = 'Datasets/MIST_interaction_ppi_vs5_0-9606.txt'"
   ]
  },
  {
   "cell_type": "markdown",
   "id": "bed7401c-6cfc-4d43-92c4-cefad13d03bf",
   "metadata": {},
   "source": [
    "## Understanding the data"
   ]
  },
  {
   "cell_type": "markdown",
   "id": "31bbbb06-96a2-4a7b-940d-973e78b0ab2e",
   "metadata": {},
   "source": [
    "MIST_interaction_ppi_vs5_0-9606.txt has 18 columns and 1048431 rows, each row representing a protein-protein interaction. To understand each column, check the documentation below extracted from https://fgrtools.hms.harvard.edu/MIST/downloads.jsp.\n",
    "1. MasterNetID: our own unique interaction ID\n",
    "2. TaxID_A: taxonomy id for interacting partner A, for example, 9606 for human genes\n",
    "3. GeneA: entrez geneid for interacting partner A\n",
    "4. TaxID_B: taxonomy id for interacting partner B, for example, 9606 for human genes\n",
    "5. GeneB: entrez geneid for interacting partner B\n",
    "6. Rank: confidence of interaction (high, moderate and low)\n",
    "7. Interaction_type: PPI, genetic, interolog, interolog-genetic\n",
    "8. Exp_Direct: evidence codes (MI ID) for direct interaction eg. \"MI:0018\" for 2-Hybrid interaction\n",
    "9. Exp_Indirect: evidence code for in-direct interaction eg. \"MI:0488\" for psi-mi\n",
    "10. TaxID_interolog: this column is only populated for interolog and shows the taxonomy ID of the original data\n",
    "11. Source_databases: eg. BioGrid\n",
    "12. Reference: Pubmed_ID or other reference ID (eg reference from FlyBase)\n",
    "13. Reference_type: eg. \"PMID\"\n",
    "14. Count_direct: count of unique evidence code (MI number) as direct interaction\n",
    "15. Count_indirect: count of unique evidence code (MI number) as in-direct interaction\n",
    "16. Count_paper: count of unique reference IDs\n",
    "17. Source_Interolog: this column is only populated for interolog and shows the MasterNetID of the original data\n",
    "18. Comment"
   ]
  },
  {
   "cell_type": "code",
   "execution_count": 30,
   "id": "f3e323f0-fc30-4190-8188-2b5982abedcc",
   "metadata": {
    "execution": {
     "iopub.execute_input": "2023-08-21T15:56:37.788587Z",
     "iopub.status.busy": "2023-08-21T15:56:37.788195Z",
     "iopub.status.idle": "2023-08-21T15:56:37.794331Z",
     "shell.execute_reply": "2023-08-21T15:56:37.793041Z",
     "shell.execute_reply.started": "2023-08-21T15:56:37.788567Z"
    }
   },
   "outputs": [],
   "source": [
    "def get_or_add_vertex(g, id):\n",
    "    u = g.vertex_by_id(id)\n",
    "    if u is None:\n",
    "        u = g.add_vertex_by_id(id)\n",
    "       # u['id'] = 0\n",
    "    return u\n",
    "\n",
    "def get_or_add_edge(g, gene_a, gene_b, master_net_id):\n",
    "    e = g.edge_by_ids(gene_a, gene_b)\n",
    "    if e is None:\n",
    "        e = g.add_edge_by_ids(gene_a, gene_b)\n",
    "        #e['interaction_id'] = master_net_id\n",
    "    return e"
   ]
  },
  {
   "cell_type": "markdown",
   "id": "ae579d6d-2573-4f64-973d-1ebfce0f2a3f",
   "metadata": {},
   "source": [
    "## Reading the data and building the network"
   ]
  },
  {
   "cell_type": "code",
   "execution_count": 31,
   "id": "fe73a358-fc4e-4ab3-94c4-93db72c12df0",
   "metadata": {
    "execution": {
     "iopub.execute_input": "2023-08-21T15:56:38.420840Z",
     "iopub.status.busy": "2023-08-21T15:56:38.420369Z",
     "iopub.status.idle": "2023-08-21T15:56:55.802300Z",
     "shell.execute_reply": "2023-08-21T15:56:55.800608Z",
     "shell.execute_reply.started": "2023-08-21T15:56:38.420823Z"
    }
   },
   "outputs": [
    {
     "name": "stdout",
     "output_type": "stream",
     "text": [
      "499969\n"
     ]
    }
   ],
   "source": [
    "g = gte.Graph(directed=False)\n",
    "\n",
    "with open('mist_ppi_human.txt') as file:\n",
    "\n",
    "    # Ignoring the first line because it's the header.\n",
    "    next(file)\n",
    "    i = 0\n",
    "    # Reading the file line by line, without fully loading it into the memory.\n",
    "    for line in file:\n",
    "        \n",
    "        # Turns the line into a list of parts\n",
    "        # considering '\\t' as a separator.\n",
    "        parts = line.split('\\t')\n",
    "\n",
    "        # Ignoring the first and the last character\n",
    "        # of each part to eliminate quotation marks.\n",
    "        parts = [part[1:-1] for part in parts]\n",
    "\n",
    "        rank = parts[5]\n",
    "        # Conceitos dos Vertices: Um vertice representará um Gene\n",
    "        # Conceito das arestas: Uma aresta entre GeneA e GeneB indica que há interação mediana ou forte entre ambas proteínas\n",
    "        # Operacionalização dos vértices: Cada vertice corresponde a um Gene, independente de ser A ou B, ou de existirem conexões.\n",
    "        # Operacionalização das arestas: Apenas existem arestas caso um par de Genes têm interação proteíca entre si.\n",
    "        \n",
    "        # if the rank is high, there is interaction between GeneA and GeneB\n",
    "        gene_a = parts[2]\n",
    "        gene_b = parts[4]\n",
    "        interaction_id = parts[0]\n",
    "\n",
    "        vertex_ga = get_or_add_vertex(g, gene_a)\n",
    "        vertex_gb = get_or_add_vertex(g, gene_b)\n",
    "        if rank == 'high':\n",
    "            e = get_or_add_edge(g, gene_a, gene_b, interaction_id)\n",
    "            \n",
    "            i += 1\n",
    "            \n",
    "        \n",
    "        # g = gte.Graph(directed=False)\n",
    "    print(i)"
   ]
  },
  {
   "cell_type": "code",
   "execution_count": null,
   "id": "bb99e5c6-b0da-4b5c-9404-a6d523dfbf15",
   "metadata": {},
   "outputs": [],
   "source": [
    "gte.clean(g)"
   ]
  },
  {
   "cell_type": "code",
   "execution_count": null,
   "id": "3467efd7-802f-49bd-8e2f-30a998574ad8",
   "metadata": {},
   "outputs": [],
   "source": []
  },
  {
   "cell_type": "code",
   "execution_count": null,
   "id": "b0f18240-b559-49c2-a70a-fc079951671e",
   "metadata": {},
   "outputs": [],
   "source": []
  },
  {
   "cell_type": "code",
   "execution_count": null,
   "id": "82c697fb-ea57-483d-a02e-f86d17a58c94",
   "metadata": {},
   "outputs": [],
   "source": [
    "from graph_tool import draw\n",
    "import netpixi"
   ]
  },
  {
   "cell_type": "code",
   "execution_count": null,
   "id": "b18baad8-97c5-40d7-9b29-4fce8168d2b0",
   "metadata": {},
   "outputs": [],
   "source": [
    "layout = draw.sfdp_layout(g)"
   ]
  },
  {
   "cell_type": "markdown",
   "id": "418e49ce-e104-412e-8c6a-dc1cc52f6fcb",
   "metadata": {},
   "source": [
    "gte.move(g, layout)"
   ]
  },
  {
   "cell_type": "code",
   "execution_count": null,
   "id": "a44f3d25-eb71-41e8-83e7-f1c7526ca0bb",
   "metadata": {},
   "outputs": [],
   "source": [
    "gte.save(g, 'misthumanv2.net.gz')"
   ]
  },
  {
   "cell_type": "code",
   "execution_count": null,
   "id": "41813420-52dc-48a8-b2f4-18bf53929cda",
   "metadata": {},
   "outputs": [],
   "source": [
    "r = netpixi.render('misthumanv2.net.gz')"
   ]
  },
  {
   "cell_type": "code",
   "execution_count": null,
   "id": "21d81111-bbf4-4a3a-8b26-1f2bbd6f8afd",
   "metadata": {},
   "outputs": [],
   "source": []
  }
 ],
 "metadata": {
  "kernelspec": {
   "display_name": "Python 3 (ipykernel)",
   "language": "python",
   "name": "python3"
  },
  "language_info": {
   "codemirror_mode": {
    "name": "ipython",
    "version": 3
   },
   "file_extension": ".py",
   "mimetype": "text/x-python",
   "name": "python",
   "nbconvert_exporter": "python",
   "pygments_lexer": "ipython3",
   "version": "3.11.4"
  }
 },
 "nbformat": 4,
 "nbformat_minor": 5
}
