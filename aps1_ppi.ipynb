{
 "cells": [
  {
   "cell_type": "markdown",
   "id": "9f0e9545-b882-4998-bdb6-9df9dfa664b8",
   "metadata": {},
   "source": [
    "# Building a protein-protein interection network"
   ]
  },
  {
   "cell_type": "code",
   "execution_count": 7,
   "id": "6ae819d5-5891-4107-907a-9d65cf7c9524",
   "metadata": {
    "execution": {
     "iopub.execute_input": "2023-08-21T20:09:08.746592Z",
     "iopub.status.busy": "2023-08-21T20:09:08.746406Z",
     "iopub.status.idle": "2023-08-21T20:09:08.749208Z",
     "shell.execute_reply": "2023-08-21T20:09:08.748689Z",
     "shell.execute_reply.started": "2023-08-21T20:09:08.746579Z"
    }
   },
   "outputs": [],
   "source": [
    "import graph_tool_extras as gte"
   ]
  },
  {
   "cell_type": "markdown",
   "id": "e791cd4d-34d2-40b8-9c11-4f5f2aeda10e",
   "metadata": {},
   "source": [
    "## Introduction"
   ]
  },
  {
   "cell_type": "markdown",
   "id": "56916d79-eb73-4597-9a34-aa02cd850675",
   "metadata": {},
   "source": [
    "In this notebook, a network of protein-protein interactions in human bodies was built.\n",
    "The database in the file below is used. It's from the Molecular Interaction Searching Tool's dataset at https://fgrtools.hms.harvard.edu/MIST."
   ]
  },
  {
   "cell_type": "code",
   "execution_count": 8,
   "id": "6e9e3857-d649-41c2-93bc-bab968e765b0",
   "metadata": {
    "execution": {
     "iopub.execute_input": "2023-08-21T20:09:09.435782Z",
     "iopub.status.busy": "2023-08-21T20:09:09.435489Z",
     "iopub.status.idle": "2023-08-21T20:09:09.438702Z",
     "shell.execute_reply": "2023-08-21T20:09:09.438279Z",
     "shell.execute_reply.started": "2023-08-21T20:09:09.435760Z"
    }
   },
   "outputs": [],
   "source": [
    "PATH = 'MIST_interaction_ppi_vs5_0-9606.txt'"
   ]
  },
  {
   "cell_type": "markdown",
   "id": "bed7401c-6cfc-4d43-92c4-cefad13d03bf",
   "metadata": {},
   "source": [
    "## Understanding the data"
   ]
  },
  {
   "cell_type": "markdown",
   "id": "31bbbb06-96a2-4a7b-940d-973e78b0ab2e",
   "metadata": {},
   "source": [
    "MIST_interaction_ppi_vs5_0-9606.txt has 18 columns and 1048431 rows, each row representing a protein-protein interaction. To understand each column, check the documentation below extracted from https://fgrtools.hms.harvard.edu/MIST/downloads.jsp.\n",
    "1. MasterNetID: our own unique interaction ID\n",
    "2. TaxID_A: taxonomy id for interacting partner A, for example, 9606 for human genes\n",
    "3. GeneA: entrez geneid for interacting partner A\n",
    "4. TaxID_B: taxonomy id for interacting partner B, for example, 9606 for human genes\n",
    "5. GeneB: entrez geneid for interacting partner B\n",
    "6. Rank: confidence of interaction (high, moderate and low)\n",
    "7. Interaction_type: PPI, genetic, interolog, interolog-genetic\n",
    "8. Exp_Direct: evidence codes (MI ID) for direct interaction eg. \"MI:0018\" for 2-Hybrid interaction\n",
    "9. Exp_Indirect: evidence code for in-direct interaction eg. \"MI:0488\" for psi-mi\n",
    "10. TaxID_interolog: this column is only populated for interolog and shows the taxonomy ID of the original data\n",
    "11. Source_databases: eg. BioGrid\n",
    "12. Reference: Pubmed_ID or other reference ID (eg reference from FlyBase)\n",
    "13. Reference_type: eg. \"PMID\"\n",
    "14. Count_direct: count of unique evidence code (MI number) as direct interaction\n",
    "15. Count_indirect: count of unique evidence code (MI number) as in-direct interaction\n",
    "16. Count_paper: count of unique reference IDs\n",
    "17. Source_Interolog: this column is only populated for interolog and shows the MasterNetID of the original data\n",
    "18. Comment"
   ]
  },
  {
   "cell_type": "markdown",
   "id": "b2ba3fbb-d7ae-495b-89a6-317d440fa7bc",
   "metadata": {},
   "source": [
    "Proteins can be represented by the gene that encodes them. GeneA and GeneB are the columns for the ids of the genes that encodes both proteins in each interaction. Gene names were not available in the database."
   ]
  },
  {
   "cell_type": "markdown",
   "id": "7e64874d-d374-47d3-9b08-c54589f7b2da",
   "metadata": {
    "execution": {
     "iopub.execute_input": "2023-08-21T20:19:58.352693Z",
     "iopub.status.busy": "2023-08-21T20:19:58.352474Z",
     "iopub.status.idle": "2023-08-21T20:19:58.355618Z",
     "shell.execute_reply": "2023-08-21T20:19:58.355051Z",
     "shell.execute_reply.started": "2023-08-21T20:19:58.352677Z"
    }
   },
   "source": [
    "## Creating functions to build the network"
   ]
  },
  {
   "cell_type": "code",
   "execution_count": 14,
   "id": "f3e323f0-fc30-4190-8188-2b5982abedcc",
   "metadata": {
    "execution": {
     "iopub.execute_input": "2023-08-21T20:23:53.745387Z",
     "iopub.status.busy": "2023-08-21T20:23:53.745029Z",
     "iopub.status.idle": "2023-08-21T20:23:53.750591Z",
     "shell.execute_reply": "2023-08-21T20:23:53.749949Z",
     "shell.execute_reply.started": "2023-08-21T20:23:53.745359Z"
    }
   },
   "outputs": [],
   "source": [
    "def get_or_add_vertex(g, id):\n",
    "    u = g.vertex_by_id(id)\n",
    "    if u is None:\n",
    "        u = g.add_vertex_by_id(id)\n",
    "        u['id'] = id\n",
    "    return u"
   ]
  },
  {
   "cell_type": "code",
   "execution_count": null,
   "id": "a42ae3af",
   "metadata": {},
   "outputs": [],
   "source": [
    "def get_or_add_edge(g, gene_a, gene_b, master_net_id):\n",
    "    e = g.edge_by_ids(gene_a, gene_b)\n",
    "    if e is None:\n",
    "        e = g.add_edge_by_ids(gene_a, gene_b)\n",
    "        e['master_net_id'] = master_net_id\n",
    "    return e"
   ]
  },
  {
   "cell_type": "markdown",
   "id": "ae579d6d-2573-4f64-973d-1ebfce0f2a3f",
   "metadata": {},
   "source": [
    "## Reading the data and building the network"
   ]
  },
  {
   "cell_type": "code",
   "execution_count": 15,
   "id": "89f11074-37a3-4990-96fe-3b572f057f97",
   "metadata": {
    "execution": {
     "iopub.execute_input": "2023-08-21T20:23:57.365665Z",
     "iopub.status.busy": "2023-08-21T20:23:57.365303Z",
     "iopub.status.idle": "2023-08-21T20:23:57.369684Z",
     "shell.execute_reply": "2023-08-21T20:23:57.369020Z",
     "shell.execute_reply.started": "2023-08-21T20:23:57.365639Z"
    }
   },
   "outputs": [],
   "source": [
    "g = gte.Graph(directed=False)"
   ]
  },
  {
   "cell_type": "code",
   "execution_count": 16,
   "id": "c022ac0d-4c58-4fd5-8fd8-bfd79b3a55cc",
   "metadata": {
    "execution": {
     "iopub.execute_input": "2023-08-21T20:23:57.826044Z",
     "iopub.status.busy": "2023-08-21T20:23:57.825718Z",
     "iopub.status.idle": "2023-08-21T20:23:57.830134Z",
     "shell.execute_reply": "2023-08-21T20:23:57.829408Z",
     "shell.execute_reply.started": "2023-08-21T20:23:57.826019Z"
    }
   },
   "outputs": [],
   "source": [
    "g.add_ep('rank')\n",
    "g.add_ep('master_net_id')\n",
    "g.add_vp('id')"
   ]
  },
  {
   "cell_type": "code",
   "execution_count": 17,
   "id": "fe73a358-fc4e-4ab3-94c4-93db72c12df0",
   "metadata": {
    "execution": {
     "iopub.execute_input": "2023-08-21T20:23:59.017015Z",
     "iopub.status.busy": "2023-08-21T20:23:59.016800Z",
     "iopub.status.idle": "2023-08-21T20:24:19.333858Z",
     "shell.execute_reply": "2023-08-21T20:24:19.332941Z",
     "shell.execute_reply.started": "2023-08-21T20:23:59.016999Z"
    }
   },
   "outputs": [],
   "source": [
    "with open(PATH) as file:\n",
    "\n",
    "    next(file)\n",
    "    \n",
    "    for line in file:\n",
    "        parts = line.split('\\t')\n",
    "\n",
    "        parts = [part[1:-1] for part in parts]\n",
    "\n",
    "        rank = parts[5]\n",
    "        master_net_id = parts[0]\n",
    "        gene_a = parts[2]\n",
    "        gene_b = parts[4]\n",
    "\n",
    "        # Filtering all protein-protein interactions with low confidence of interaction \n",
    "        if rank != 'low':\n",
    "            vertex_ga = get_or_add_vertex(g, gene_a)\n",
    "            vertex_gb = get_or_add_vertex(g, gene_b)\n",
    "            e = get_or_add_edge(g, gene_a, gene_b, master_net_id)"
   ]
  },
  {
   "cell_type": "code",
   "execution_count": 20,
   "id": "bbfef3c2-63d0-4385-8328-8a88e46dacf6",
   "metadata": {
    "execution": {
     "iopub.execute_input": "2023-08-21T20:26:50.692696Z",
     "iopub.status.busy": "2023-08-21T20:26:50.692341Z",
     "iopub.status.idle": "2023-08-21T20:26:50.838471Z",
     "shell.execute_reply": "2023-08-21T20:26:50.837523Z",
     "shell.execute_reply.started": "2023-08-21T20:26:50.692650Z"
    }
   },
   "outputs": [],
   "source": [
    "g = gte.clean(g)"
   ]
  },
  {
   "cell_type": "code",
   "execution_count": 22,
   "id": "6acd0228-b99d-4e46-b750-10c6bd814833",
   "metadata": {
    "execution": {
     "iopub.execute_input": "2023-08-21T20:26:56.759060Z",
     "iopub.status.busy": "2023-08-21T20:26:56.758326Z",
     "iopub.status.idle": "2023-08-21T20:27:20.892188Z",
     "shell.execute_reply": "2023-08-21T20:27:20.891469Z",
     "shell.execute_reply.started": "2023-08-21T20:26:56.759028Z"
    }
   },
   "outputs": [],
   "source": [
    "gte.save(g, 'mist_ppi_human.net.gz')"
   ]
  },
  {
   "cell_type": "markdown",
   "id": "94d191dc",
   "metadata": {},
   "source": [
    "## Configuring the layout and rendering the network"
   ]
  },
  {
   "cell_type": "code",
   "execution_count": 23,
   "id": "bb99e5c6-b0da-4b5c-9404-a6d523dfbf15",
   "metadata": {
    "execution": {
     "iopub.execute_input": "2023-08-21T20:27:20.893687Z",
     "iopub.status.busy": "2023-08-21T20:27:20.893486Z",
     "iopub.status.idle": "2023-08-21T20:27:21.679712Z",
     "shell.execute_reply": "2023-08-21T20:27:21.679011Z",
     "shell.execute_reply.started": "2023-08-21T20:27:20.893671Z"
    }
   },
   "outputs": [
    {
     "data": {
      "text/html": [
       "\n",
       "    <script src=\"/static/.hidden/netpixi.min.js\"></script>\n"
      ],
      "text/plain": [
       "<IPython.core.display.HTML object>"
      ]
     },
     "metadata": {},
     "output_type": "display_data"
    }
   ],
   "source": [
    "from graph_tool import draw\n",
    "import netpixi"
   ]
  },
  {
   "cell_type": "code",
   "execution_count": 24,
   "id": "b18baad8-97c5-40d7-9b29-4fce8168d2b0",
   "metadata": {
    "execution": {
     "iopub.execute_input": "2023-08-21T20:27:21.681078Z",
     "iopub.status.busy": "2023-08-21T20:27:21.680641Z",
     "iopub.status.idle": "2023-08-21T20:28:59.174308Z",
     "shell.execute_reply": "2023-08-21T20:28:59.173006Z",
     "shell.execute_reply.started": "2023-08-21T20:27:21.681058Z"
    }
   },
   "outputs": [],
   "source": [
    "layout = draw.sfdp_layout(g)"
   ]
  },
  {
   "cell_type": "code",
   "execution_count": 25,
   "id": "0de7ac13-78a0-43bd-9072-c032dc1d0dfd",
   "metadata": {
    "execution": {
     "iopub.execute_input": "2023-08-21T20:29:34.903986Z",
     "iopub.status.busy": "2023-08-21T20:29:34.903750Z",
     "iopub.status.idle": "2023-08-21T20:29:35.427182Z",
     "shell.execute_reply": "2023-08-21T20:29:35.426407Z",
     "shell.execute_reply.started": "2023-08-21T20:29:34.903969Z"
    }
   },
   "outputs": [],
   "source": [
    "gte.move(g, layout)"
   ]
  },
  {
   "cell_type": "code",
   "execution_count": 26,
   "id": "a44f3d25-eb71-41e8-83e7-f1c7526ca0bb",
   "metadata": {
    "execution": {
     "iopub.execute_input": "2023-08-21T20:29:36.128387Z",
     "iopub.status.busy": "2023-08-21T20:29:36.128155Z",
     "iopub.status.idle": "2023-08-21T20:30:01.978134Z",
     "shell.execute_reply": "2023-08-21T20:30:01.977199Z",
     "shell.execute_reply.started": "2023-08-21T20:29:36.128370Z"
    }
   },
   "outputs": [],
   "source": [
    "gte.save(g, 'mist_ppi_human_layout.net.gz')"
   ]
  },
  {
   "cell_type": "code",
   "execution_count": 28,
   "id": "41813420-52dc-48a8-b2f4-18bf53929cda",
   "metadata": {
    "execution": {
     "iopub.execute_input": "2023-08-21T20:30:17.056772Z",
     "iopub.status.busy": "2023-08-21T20:30:17.056523Z",
     "iopub.status.idle": "2023-08-21T20:30:17.061156Z",
     "shell.execute_reply": "2023-08-21T20:30:17.060697Z",
     "shell.execute_reply.started": "2023-08-21T20:30:17.056754Z"
    }
   },
   "outputs": [
    {
     "data": {
      "text/html": [
       "\n",
       "        <div id=\"Y3kQSg6WmW9U24q2nqbPVU\"></div>\n",
       "        <script>netpixi.render('Y3kQSg6WmW9U24q2nqbPVU', '/static/__shared__/mist_ppi_human_layout.net.gz', 1.7777777777777777, true, true, false, true);</script>\n",
       "    "
      ],
      "text/plain": [
       "<IPython.core.display.HTML object>"
      ]
     },
     "metadata": {},
     "output_type": "display_data"
    }
   ],
   "source": [
    "r = netpixi.render('mist_ppi_human_layout.net.gz', infinite=True)"
   ]
  },
  {
   "cell_type": "code",
   "execution_count": 29,
   "id": "21d81111-bbf4-4a3a-8b26-1f2bbd6f8afd",
   "metadata": {
    "execution": {
     "iopub.execute_input": "2023-08-21T20:30:32.038117Z",
     "iopub.status.busy": "2023-08-21T20:30:32.037694Z",
     "iopub.status.idle": "2023-08-21T20:30:32.044014Z",
     "shell.execute_reply": "2023-08-21T20:30:32.043154Z",
     "shell.execute_reply.started": "2023-08-21T20:30:32.038094Z"
    }
   },
   "outputs": [
    {
     "data": {
      "text/html": [
       "\n",
       "        <div id=\"HXNem53gBHxFTMaca9tCC9\"></div>\n",
       "        <script>netpixi.call('HXNem53gBHxFTMaca9tCC9', 'Y3kQSg6WmW9U24q2nqbPVU', 'changeGraph', 'eyJ0eXBlIjogInNldHRpbmdzIiwgInByb3BzIjogeyJ2ZXJ0ZXgiOiB7InNpemUiOiA0LCAiY29sb3IiOiAxNjc3Njk2MCwgImJ3aWR0aCI6IDEsICJiY29sb3IiOiAzMDQ2NH19fQo=');</script>\n",
       "    "
      ],
      "text/plain": [
       "<IPython.core.display.HTML object>"
      ]
     },
     "metadata": {},
     "output_type": "display_data"
    }
   ],
   "source": [
    "r.vertex_default(\n",
    "    size=4,\n",
    "    color=0xffff00,\n",
    "    bwidth=1,\n",
    "    bcolor=0x007700,\n",
    ")"
   ]
  },
  {
   "cell_type": "code",
   "execution_count": 21,
   "id": "900d32d8-d9f4-4c0d-84c6-24c2a16dbe0b",
   "metadata": {
    "execution": {
     "iopub.execute_input": "2023-08-21T19:12:24.074154Z",
     "iopub.status.busy": "2023-08-21T19:12:24.073732Z",
     "iopub.status.idle": "2023-08-21T19:12:24.081863Z",
     "shell.execute_reply": "2023-08-21T19:12:24.080895Z",
     "shell.execute_reply.started": "2023-08-21T19:12:24.074114Z"
    }
   },
   "outputs": [
    {
     "data": {
      "text/html": [
       "\n",
       "        <div id=\"ir5HTiGpy4JjobGy92cUD3\"></div>\n",
       "        <script>netpixi.call('ir5HTiGpy4JjobGy92cUD3', 'fv8tLspEx8pu5iwKSZZQWX', 'changeGraph', 'eyJ0eXBlIjogInNldHRpbmdzIiwgInByb3BzIjogeyJlZGdlIjogeyJ3aWR0aCI6IDAuMiwgImNvbG9yIjogNzgyOTUwMywgImN1cnZlMSI6IDEsICJjdXJ2ZTIiOiAxfX19Cg==');</script>\n",
       "    "
      ],
      "text/plain": [
       "<IPython.core.display.HTML object>"
      ]
     },
     "metadata": {},
     "output_type": "display_data"
    }
   ],
   "source": [
    "r.edge_default(\n",
    "    width=0.2,\n",
    "    color=0x7777ff,\n",
    "    curve1=1,\n",
    "    curve2=1,\n",
    ")"
   ]
  }
 ],
 "metadata": {
  "kernelspec": {
   "display_name": "Python 3 (ipykernel)",
   "language": "python",
   "name": "python3"
  },
  "language_info": {
   "codemirror_mode": {
    "name": "ipython",
    "version": 3
   },
   "file_extension": ".py",
   "mimetype": "text/x-python",
   "name": "python",
   "nbconvert_exporter": "python",
   "pygments_lexer": "ipython3",
   "version": "3.11.4"
  }
 },
 "nbformat": 4,
 "nbformat_minor": 5
}
