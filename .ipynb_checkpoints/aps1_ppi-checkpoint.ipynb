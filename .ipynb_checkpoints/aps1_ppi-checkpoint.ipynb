{
 "cells": [
  {
   "cell_type": "markdown",
   "id": "9f0e9545-b882-4998-bdb6-9df9dfa664b8",
   "metadata": {},
   "source": [
    "# Building a protein-protein interection network"
   ]
  },
  {
   "cell_type": "code",
   "execution_count": 35,
   "id": "6ae819d5-5891-4107-907a-9d65cf7c9524",
   "metadata": {
    "execution": {
     "iopub.execute_input": "2023-08-20T00:44:13.684028Z",
     "iopub.status.busy": "2023-08-20T00:44:13.683803Z",
     "iopub.status.idle": "2023-08-20T00:44:13.686778Z",
     "shell.execute_reply": "2023-08-20T00:44:13.686188Z",
     "shell.execute_reply.started": "2023-08-20T00:44:13.684013Z"
    }
   },
   "outputs": [],
   "source": [
    "import graph_tool_extras as gte"
   ]
  },
  {
   "cell_type": "markdown",
   "id": "e791cd4d-34d2-40b8-9c11-4f5f2aeda10e",
   "metadata": {},
   "source": [
    "## Introduction"
   ]
  },
  {
   "cell_type": "markdown",
   "id": "56916d79-eb73-4597-9a34-aa02cd850675",
   "metadata": {},
   "source": [
    "In this notebook, a network of protein-protein interactions in human bodies was built.\n",
    "The database in the file below is used. It's from the Molecular Interaction Searching Tool's dataset at https://fgrtools.hms.harvard.edu/MIST."
   ]
  },
  {
   "cell_type": "code",
   "execution_count": 36,
   "id": "6e9e3857-d649-41c2-93bc-bab968e765b0",
   "metadata": {
    "execution": {
     "iopub.execute_input": "2023-08-20T00:44:14.350485Z",
     "iopub.status.busy": "2023-08-20T00:44:14.350165Z",
     "iopub.status.idle": "2023-08-20T00:44:14.354103Z",
     "shell.execute_reply": "2023-08-20T00:44:14.353510Z",
     "shell.execute_reply.started": "2023-08-20T00:44:14.350466Z"
    }
   },
   "outputs": [],
   "source": [
    "PATH = 'Datasets/MIST_interaction_ppi_vs5_0-9606.txt'"
   ]
  },
  {
   "cell_type": "markdown",
   "id": "bed7401c-6cfc-4d43-92c4-cefad13d03bf",
   "metadata": {},
   "source": [
    "## Understanding the data"
   ]
  },
  {
   "cell_type": "markdown",
   "id": "31bbbb06-96a2-4a7b-940d-973e78b0ab2e",
   "metadata": {},
   "source": [
    "MIST_interaction_ppi_vs5_0-9606.txt has 18 columns and 1048431 rows, each row representing a protein-protein interaction. To understand each column, check the documentation below extracted from https://fgrtools.hms.harvard.edu/MIST/downloads.jsp.\n",
    "1. MasterNetID: our own unique interaction ID\n",
    "2. TaxID_A: taxonomy id for interacting partner A, for example, 9606 for human genes\n",
    "3. GeneA: entrez geneid for interacting partner A\n",
    "4. TaxID_B: taxonomy id for interacting partner B, for example, 9606 for human genes\n",
    "5. GeneB: entrez geneid for interacting partner B\n",
    "6. Rank: confidence of interaction (high, moderate and low)\n",
    "7. Interaction_type: PPI, genetic, interolog, interolog-genetic\n",
    "8. Exp_Direct: evidence codes (MI ID) for direct interaction eg. \"MI:0018\" for 2-Hybrid interaction\n",
    "9. Exp_Indirect: evidence code for in-direct interaction eg. \"MI:0488\" for psi-mi\n",
    "10. TaxID_interolog: this column is only populated for interolog and shows the taxonomy ID of the original data\n",
    "11. Source_databases: eg. BioGrid\n",
    "12. Reference: Pubmed_ID or other reference ID (eg reference from FlyBase)\n",
    "13. Reference_type: eg. \"PMID\"\n",
    "14. Count_direct: count of unique evidence code (MI number) as direct interaction\n",
    "15. Count_indirect: count of unique evidence code (MI number) as in-direct interaction\n",
    "16. Count_paper: count of unique reference IDs\n",
    "17. Source_Interolog: this column is only populated for interolog and shows the MasterNetID of the original data\n",
    "18. Comment"
   ]
  },
  {
   "cell_type": "markdown",
   "id": "ae579d6d-2573-4f64-973d-1ebfce0f2a3f",
   "metadata": {},
   "source": [
    "## Reading the data and building the network"
   ]
  },
  {
   "cell_type": "code",
   "execution_count": 44,
   "id": "fe73a358-fc4e-4ab3-94c4-93db72c12df0",
   "metadata": {
    "execution": {
     "iopub.execute_input": "2023-08-20T00:55:57.892975Z",
     "iopub.status.busy": "2023-08-20T00:55:57.891872Z",
     "iopub.status.idle": "2023-08-20T00:55:57.897820Z",
     "shell.execute_reply": "2023-08-20T00:55:57.897257Z",
     "shell.execute_reply.started": "2023-08-20T00:55:57.892927Z"
    }
   },
   "outputs": [],
   "source": [
    "with open(PATH) as file:\n",
    "\n",
    "    # Ignoring the first line because it's the header.\n",
    "    next(file)\n",
    "    \n",
    "    # Reading the file line by line, without fully loading it into the memory.\n",
    "    for line in file:\n",
    "        \n",
    "        # Turns the line into a list of parts\n",
    "        # considering '\\t' as a separator.\n",
    "        parts = line.split('\\t')\n",
    "\n",
    "        # Ignoring the first and the last character\n",
    "        # of each part to eliminate quotation marks.\n",
    "        parts = [part[1:-1] for part in parts]\n",
    "        \n",
    "        break"
   ]
  },
  {
   "cell_type": "markdown",
   "id": "e1cd8eaf-f444-4064-ad2b-92c98b6256d9",
   "metadata": {},
   "source": []
  }
 ],
 "metadata": {
  "kernelspec": {
   "display_name": "Python 3 (ipykernel)",
   "language": "python",
   "name": "python3"
  },
  "language_info": {
   "codemirror_mode": {
    "name": "ipython",
    "version": 3
   },
   "file_extension": ".py",
   "mimetype": "text/x-python",
   "name": "python",
   "nbconvert_exporter": "python",
   "pygments_lexer": "ipython3",
   "version": "3.11.4"
  }
 },
 "nbformat": 4,
 "nbformat_minor": 5
}
